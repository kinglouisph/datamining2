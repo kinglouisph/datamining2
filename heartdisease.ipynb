{
 "cells": [
  {
   "cell_type": "raw",
   "id": "8b04abc4-b232-44f7-a0ef-9d4dd381ef69",
   "metadata": {},
   "source": [
    "Louis Philipp\n",
    "Dataset: https://www.kaggle.com/datasets/sulianova/cardiovascular-disease-dataset"
   ]
  },
  {
   "cell_type": "code",
   "execution_count": 1,
   "id": "559f8bf2-a5a8-4cca-bea5-e11328adfc63",
   "metadata": {},
   "outputs": [],
   "source": [
    "import math\n",
    "import numpy as np\n",
    "import pandas as pd"
   ]
  },
  {
   "cell_type": "code",
   "execution_count": 2,
   "id": "95e33fac-98bf-4131-8f47-a4e4a22b58dd",
   "metadata": {},
   "outputs": [],
   "source": [
    "idf = pd.read_csv('cardio_train.csv')"
   ]
  },
  {
   "cell_type": "code",
   "execution_count": 96,
   "id": "77cc89aa-86c4-482e-ab80-ba2566a0ac75",
   "metadata": {},
   "outputs": [
    {
     "data": {
      "text/html": [
       "<div>\n",
       "<style scoped>\n",
       "    .dataframe tbody tr th:only-of-type {\n",
       "        vertical-align: middle;\n",
       "    }\n",
       "\n",
       "    .dataframe tbody tr th {\n",
       "        vertical-align: top;\n",
       "    }\n",
       "\n",
       "    .dataframe thead th {\n",
       "        text-align: right;\n",
       "    }\n",
       "</style>\n",
       "<table border=\"1\" class=\"dataframe\">\n",
       "  <thead>\n",
       "    <tr style=\"text-align: right;\">\n",
       "      <th></th>\n",
       "      <th>id;age;gender;height;weight;ap_hi;ap_lo;cholesterol;gluc;smoke;alco;active;cardio</th>\n",
       "    </tr>\n",
       "  </thead>\n",
       "  <tbody>\n",
       "    <tr>\n",
       "      <th>0</th>\n",
       "      <td>0;18393;2;168;62.0;110;80;1;1;0;0;1;0</td>\n",
       "    </tr>\n",
       "    <tr>\n",
       "      <th>1</th>\n",
       "      <td>1;20228;1;156;85.0;140;90;3;1;0;0;1;1</td>\n",
       "    </tr>\n",
       "    <tr>\n",
       "      <th>2</th>\n",
       "      <td>2;18857;1;165;64.0;130;70;3;1;0;0;0;1</td>\n",
       "    </tr>\n",
       "    <tr>\n",
       "      <th>3</th>\n",
       "      <td>3;17623;2;169;82.0;150;100;1;1;0;0;1;1</td>\n",
       "    </tr>\n",
       "    <tr>\n",
       "      <th>4</th>\n",
       "      <td>4;17474;1;156;56.0;100;60;1;1;0;0;0;0</td>\n",
       "    </tr>\n",
       "    <tr>\n",
       "      <th>...</th>\n",
       "      <td>...</td>\n",
       "    </tr>\n",
       "    <tr>\n",
       "      <th>69995</th>\n",
       "      <td>99993;19240;2;168;76.0;120;80;1;1;1;0;1;0</td>\n",
       "    </tr>\n",
       "    <tr>\n",
       "      <th>69996</th>\n",
       "      <td>99995;22601;1;158;126.0;140;90;2;2;0;0;1;1</td>\n",
       "    </tr>\n",
       "    <tr>\n",
       "      <th>69997</th>\n",
       "      <td>99996;19066;2;183;105.0;180;90;3;1;0;1;0;1</td>\n",
       "    </tr>\n",
       "    <tr>\n",
       "      <th>69998</th>\n",
       "      <td>99998;22431;1;163;72.0;135;80;1;2;0;0;0;1</td>\n",
       "    </tr>\n",
       "    <tr>\n",
       "      <th>69999</th>\n",
       "      <td>99999;20540;1;170;72.0;120;80;2;1;0;0;1;0</td>\n",
       "    </tr>\n",
       "  </tbody>\n",
       "</table>\n",
       "<p>70000 rows × 1 columns</p>\n",
       "</div>"
      ],
      "text/plain": [
       "      id;age;gender;height;weight;ap_hi;ap_lo;cholesterol;gluc;smoke;alco;active;cardio\n",
       "0                  0;18393;2;168;62.0;110;80;1;1;0;0;1;0                               \n",
       "1                  1;20228;1;156;85.0;140;90;3;1;0;0;1;1                               \n",
       "2                  2;18857;1;165;64.0;130;70;3;1;0;0;0;1                               \n",
       "3                 3;17623;2;169;82.0;150;100;1;1;0;0;1;1                               \n",
       "4                  4;17474;1;156;56.0;100;60;1;1;0;0;0;0                               \n",
       "...                                                  ...                               \n",
       "69995          99993;19240;2;168;76.0;120;80;1;1;1;0;1;0                               \n",
       "69996         99995;22601;1;158;126.0;140;90;2;2;0;0;1;1                               \n",
       "69997         99996;19066;2;183;105.0;180;90;3;1;0;1;0;1                               \n",
       "69998          99998;22431;1;163;72.0;135;80;1;2;0;0;0;1                               \n",
       "69999          99999;20540;1;170;72.0;120;80;2;1;0;0;1;0                               \n",
       "\n",
       "[70000 rows x 1 columns]"
      ]
     },
     "execution_count": 96,
     "metadata": {},
     "output_type": "execute_result"
    }
   ],
   "source": [
    "idf"
   ]
  },
  {
   "cell_type": "code",
   "execution_count": 4,
   "id": "9577119e-287c-411b-9e28-404907c8a747",
   "metadata": {},
   "outputs": [],
   "source": [
    "#fix the data\n",
    "columns = \"id;age;gender;height;weight;ap_hi;ap_lo;cholesterol;gluc;smoke;alco;active;cardio;bias\".split(';')\n",
    "df = pd.DataFrame(index=range(70000), columns=columns, dtype=np.float64)"
   ]
  },
  {
   "cell_type": "code",
   "execution_count": 5,
   "id": "a564d8e4-3ac3-41f1-a9b3-4af208054994",
   "metadata": {},
   "outputs": [],
   "source": [
    "for i in range(70000):\n",
    "    r = idf.iloc[i][0].split(';')\n",
    "    for j in range(len(r)):\n",
    "        df.iloc[i][columns[j]] = float(r[j])"
   ]
  },
  {
   "cell_type": "code",
   "execution_count": 6,
   "id": "68ecdbef-ddbc-45b6-861c-32d0bf923c0f",
   "metadata": {},
   "outputs": [],
   "source": [
    "df = df.drop(['id'], axis=1)"
   ]
  },
  {
   "cell_type": "code",
   "execution_count": 7,
   "id": "227e5dc3-bc0c-4c65-bfdd-27e059171bfd",
   "metadata": {},
   "outputs": [],
   "source": [
    "df.bias = 1.0"
   ]
  },
  {
   "cell_type": "code",
   "execution_count": 8,
   "id": "f57240f4-a9ec-4f4c-9d9e-7e883154459e",
   "metadata": {},
   "outputs": [
    {
     "data": {
      "text/html": [
       "<div>\n",
       "<style scoped>\n",
       "    .dataframe tbody tr th:only-of-type {\n",
       "        vertical-align: middle;\n",
       "    }\n",
       "\n",
       "    .dataframe tbody tr th {\n",
       "        vertical-align: top;\n",
       "    }\n",
       "\n",
       "    .dataframe thead th {\n",
       "        text-align: right;\n",
       "    }\n",
       "</style>\n",
       "<table border=\"1\" class=\"dataframe\">\n",
       "  <thead>\n",
       "    <tr style=\"text-align: right;\">\n",
       "      <th></th>\n",
       "      <th>age</th>\n",
       "      <th>gender</th>\n",
       "      <th>height</th>\n",
       "      <th>weight</th>\n",
       "      <th>ap_hi</th>\n",
       "      <th>ap_lo</th>\n",
       "      <th>cholesterol</th>\n",
       "      <th>gluc</th>\n",
       "      <th>smoke</th>\n",
       "      <th>alco</th>\n",
       "      <th>active</th>\n",
       "      <th>cardio</th>\n",
       "      <th>bias</th>\n",
       "    </tr>\n",
       "  </thead>\n",
       "  <tbody>\n",
       "    <tr>\n",
       "      <th>0</th>\n",
       "      <td>18393.0</td>\n",
       "      <td>2.0</td>\n",
       "      <td>168.0</td>\n",
       "      <td>62.0</td>\n",
       "      <td>110.0</td>\n",
       "      <td>80.0</td>\n",
       "      <td>1.0</td>\n",
       "      <td>1.0</td>\n",
       "      <td>0.0</td>\n",
       "      <td>0.0</td>\n",
       "      <td>1.0</td>\n",
       "      <td>0.0</td>\n",
       "      <td>1.0</td>\n",
       "    </tr>\n",
       "    <tr>\n",
       "      <th>1</th>\n",
       "      <td>20228.0</td>\n",
       "      <td>1.0</td>\n",
       "      <td>156.0</td>\n",
       "      <td>85.0</td>\n",
       "      <td>140.0</td>\n",
       "      <td>90.0</td>\n",
       "      <td>3.0</td>\n",
       "      <td>1.0</td>\n",
       "      <td>0.0</td>\n",
       "      <td>0.0</td>\n",
       "      <td>1.0</td>\n",
       "      <td>1.0</td>\n",
       "      <td>1.0</td>\n",
       "    </tr>\n",
       "    <tr>\n",
       "      <th>2</th>\n",
       "      <td>18857.0</td>\n",
       "      <td>1.0</td>\n",
       "      <td>165.0</td>\n",
       "      <td>64.0</td>\n",
       "      <td>130.0</td>\n",
       "      <td>70.0</td>\n",
       "      <td>3.0</td>\n",
       "      <td>1.0</td>\n",
       "      <td>0.0</td>\n",
       "      <td>0.0</td>\n",
       "      <td>0.0</td>\n",
       "      <td>1.0</td>\n",
       "      <td>1.0</td>\n",
       "    </tr>\n",
       "    <tr>\n",
       "      <th>3</th>\n",
       "      <td>17623.0</td>\n",
       "      <td>2.0</td>\n",
       "      <td>169.0</td>\n",
       "      <td>82.0</td>\n",
       "      <td>150.0</td>\n",
       "      <td>100.0</td>\n",
       "      <td>1.0</td>\n",
       "      <td>1.0</td>\n",
       "      <td>0.0</td>\n",
       "      <td>0.0</td>\n",
       "      <td>1.0</td>\n",
       "      <td>1.0</td>\n",
       "      <td>1.0</td>\n",
       "    </tr>\n",
       "    <tr>\n",
       "      <th>4</th>\n",
       "      <td>17474.0</td>\n",
       "      <td>1.0</td>\n",
       "      <td>156.0</td>\n",
       "      <td>56.0</td>\n",
       "      <td>100.0</td>\n",
       "      <td>60.0</td>\n",
       "      <td>1.0</td>\n",
       "      <td>1.0</td>\n",
       "      <td>0.0</td>\n",
       "      <td>0.0</td>\n",
       "      <td>0.0</td>\n",
       "      <td>0.0</td>\n",
       "      <td>1.0</td>\n",
       "    </tr>\n",
       "    <tr>\n",
       "      <th>...</th>\n",
       "      <td>...</td>\n",
       "      <td>...</td>\n",
       "      <td>...</td>\n",
       "      <td>...</td>\n",
       "      <td>...</td>\n",
       "      <td>...</td>\n",
       "      <td>...</td>\n",
       "      <td>...</td>\n",
       "      <td>...</td>\n",
       "      <td>...</td>\n",
       "      <td>...</td>\n",
       "      <td>...</td>\n",
       "      <td>...</td>\n",
       "    </tr>\n",
       "    <tr>\n",
       "      <th>69995</th>\n",
       "      <td>19240.0</td>\n",
       "      <td>2.0</td>\n",
       "      <td>168.0</td>\n",
       "      <td>76.0</td>\n",
       "      <td>120.0</td>\n",
       "      <td>80.0</td>\n",
       "      <td>1.0</td>\n",
       "      <td>1.0</td>\n",
       "      <td>1.0</td>\n",
       "      <td>0.0</td>\n",
       "      <td>1.0</td>\n",
       "      <td>0.0</td>\n",
       "      <td>1.0</td>\n",
       "    </tr>\n",
       "    <tr>\n",
       "      <th>69996</th>\n",
       "      <td>22601.0</td>\n",
       "      <td>1.0</td>\n",
       "      <td>158.0</td>\n",
       "      <td>126.0</td>\n",
       "      <td>140.0</td>\n",
       "      <td>90.0</td>\n",
       "      <td>2.0</td>\n",
       "      <td>2.0</td>\n",
       "      <td>0.0</td>\n",
       "      <td>0.0</td>\n",
       "      <td>1.0</td>\n",
       "      <td>1.0</td>\n",
       "      <td>1.0</td>\n",
       "    </tr>\n",
       "    <tr>\n",
       "      <th>69997</th>\n",
       "      <td>19066.0</td>\n",
       "      <td>2.0</td>\n",
       "      <td>183.0</td>\n",
       "      <td>105.0</td>\n",
       "      <td>180.0</td>\n",
       "      <td>90.0</td>\n",
       "      <td>3.0</td>\n",
       "      <td>1.0</td>\n",
       "      <td>0.0</td>\n",
       "      <td>1.0</td>\n",
       "      <td>0.0</td>\n",
       "      <td>1.0</td>\n",
       "      <td>1.0</td>\n",
       "    </tr>\n",
       "    <tr>\n",
       "      <th>69998</th>\n",
       "      <td>22431.0</td>\n",
       "      <td>1.0</td>\n",
       "      <td>163.0</td>\n",
       "      <td>72.0</td>\n",
       "      <td>135.0</td>\n",
       "      <td>80.0</td>\n",
       "      <td>1.0</td>\n",
       "      <td>2.0</td>\n",
       "      <td>0.0</td>\n",
       "      <td>0.0</td>\n",
       "      <td>0.0</td>\n",
       "      <td>1.0</td>\n",
       "      <td>1.0</td>\n",
       "    </tr>\n",
       "    <tr>\n",
       "      <th>69999</th>\n",
       "      <td>20540.0</td>\n",
       "      <td>1.0</td>\n",
       "      <td>170.0</td>\n",
       "      <td>72.0</td>\n",
       "      <td>120.0</td>\n",
       "      <td>80.0</td>\n",
       "      <td>2.0</td>\n",
       "      <td>1.0</td>\n",
       "      <td>0.0</td>\n",
       "      <td>0.0</td>\n",
       "      <td>1.0</td>\n",
       "      <td>0.0</td>\n",
       "      <td>1.0</td>\n",
       "    </tr>\n",
       "  </tbody>\n",
       "</table>\n",
       "<p>70000 rows × 13 columns</p>\n",
       "</div>"
      ],
      "text/plain": [
       "           age  gender  height  weight  ap_hi  ap_lo  cholesterol  gluc  \\\n",
       "0      18393.0     2.0   168.0    62.0  110.0   80.0          1.0   1.0   \n",
       "1      20228.0     1.0   156.0    85.0  140.0   90.0          3.0   1.0   \n",
       "2      18857.0     1.0   165.0    64.0  130.0   70.0          3.0   1.0   \n",
       "3      17623.0     2.0   169.0    82.0  150.0  100.0          1.0   1.0   \n",
       "4      17474.0     1.0   156.0    56.0  100.0   60.0          1.0   1.0   \n",
       "...        ...     ...     ...     ...    ...    ...          ...   ...   \n",
       "69995  19240.0     2.0   168.0    76.0  120.0   80.0          1.0   1.0   \n",
       "69996  22601.0     1.0   158.0   126.0  140.0   90.0          2.0   2.0   \n",
       "69997  19066.0     2.0   183.0   105.0  180.0   90.0          3.0   1.0   \n",
       "69998  22431.0     1.0   163.0    72.0  135.0   80.0          1.0   2.0   \n",
       "69999  20540.0     1.0   170.0    72.0  120.0   80.0          2.0   1.0   \n",
       "\n",
       "       smoke  alco  active  cardio  bias  \n",
       "0        0.0   0.0     1.0     0.0   1.0  \n",
       "1        0.0   0.0     1.0     1.0   1.0  \n",
       "2        0.0   0.0     0.0     1.0   1.0  \n",
       "3        0.0   0.0     1.0     1.0   1.0  \n",
       "4        0.0   0.0     0.0     0.0   1.0  \n",
       "...      ...   ...     ...     ...   ...  \n",
       "69995    1.0   0.0     1.0     0.0   1.0  \n",
       "69996    0.0   0.0     1.0     1.0   1.0  \n",
       "69997    0.0   1.0     0.0     1.0   1.0  \n",
       "69998    0.0   0.0     0.0     1.0   1.0  \n",
       "69999    0.0   0.0     1.0     0.0   1.0  \n",
       "\n",
       "[70000 rows x 13 columns]"
      ]
     },
     "execution_count": 8,
     "metadata": {},
     "output_type": "execute_result"
    }
   ],
   "source": [
    "df"
   ]
  },
  {
   "cell_type": "code",
   "execution_count": 9,
   "id": "41e9c733-83f0-4593-8bc6-bf7691b71e60",
   "metadata": {},
   "outputs": [],
   "source": [
    "#one hot encoding\n",
    "df2 = pd.get_dummies(df, columns=['gender', 'cholesterol', 'gluc', 'smoke', 'alco', 'active', 'cardio'])"
   ]
  },
  {
   "cell_type": "code",
   "execution_count": 10,
   "id": "cce19ecd-2702-4d14-a1aa-d833ad1b09f8",
   "metadata": {},
   "outputs": [
    {
     "data": {
      "text/html": [
       "<div>\n",
       "<style scoped>\n",
       "    .dataframe tbody tr th:only-of-type {\n",
       "        vertical-align: middle;\n",
       "    }\n",
       "\n",
       "    .dataframe tbody tr th {\n",
       "        vertical-align: top;\n",
       "    }\n",
       "\n",
       "    .dataframe thead th {\n",
       "        text-align: right;\n",
       "    }\n",
       "</style>\n",
       "<table border=\"1\" class=\"dataframe\">\n",
       "  <thead>\n",
       "    <tr style=\"text-align: right;\">\n",
       "      <th></th>\n",
       "      <th>age</th>\n",
       "      <th>height</th>\n",
       "      <th>weight</th>\n",
       "      <th>ap_hi</th>\n",
       "      <th>ap_lo</th>\n",
       "      <th>bias</th>\n",
       "      <th>gender_1.0</th>\n",
       "      <th>gender_2.0</th>\n",
       "      <th>cholesterol_1.0</th>\n",
       "      <th>cholesterol_2.0</th>\n",
       "      <th>...</th>\n",
       "      <th>gluc_2.0</th>\n",
       "      <th>gluc_3.0</th>\n",
       "      <th>smoke_0.0</th>\n",
       "      <th>smoke_1.0</th>\n",
       "      <th>alco_0.0</th>\n",
       "      <th>alco_1.0</th>\n",
       "      <th>active_0.0</th>\n",
       "      <th>active_1.0</th>\n",
       "      <th>cardio_0.0</th>\n",
       "      <th>cardio_1.0</th>\n",
       "    </tr>\n",
       "  </thead>\n",
       "  <tbody>\n",
       "    <tr>\n",
       "      <th>0</th>\n",
       "      <td>18393.0</td>\n",
       "      <td>168.0</td>\n",
       "      <td>62.0</td>\n",
       "      <td>110.0</td>\n",
       "      <td>80.0</td>\n",
       "      <td>1.0</td>\n",
       "      <td>0</td>\n",
       "      <td>1</td>\n",
       "      <td>1</td>\n",
       "      <td>0</td>\n",
       "      <td>...</td>\n",
       "      <td>0</td>\n",
       "      <td>0</td>\n",
       "      <td>1</td>\n",
       "      <td>0</td>\n",
       "      <td>1</td>\n",
       "      <td>0</td>\n",
       "      <td>0</td>\n",
       "      <td>1</td>\n",
       "      <td>1</td>\n",
       "      <td>0</td>\n",
       "    </tr>\n",
       "    <tr>\n",
       "      <th>1</th>\n",
       "      <td>20228.0</td>\n",
       "      <td>156.0</td>\n",
       "      <td>85.0</td>\n",
       "      <td>140.0</td>\n",
       "      <td>90.0</td>\n",
       "      <td>1.0</td>\n",
       "      <td>1</td>\n",
       "      <td>0</td>\n",
       "      <td>0</td>\n",
       "      <td>0</td>\n",
       "      <td>...</td>\n",
       "      <td>0</td>\n",
       "      <td>0</td>\n",
       "      <td>1</td>\n",
       "      <td>0</td>\n",
       "      <td>1</td>\n",
       "      <td>0</td>\n",
       "      <td>0</td>\n",
       "      <td>1</td>\n",
       "      <td>0</td>\n",
       "      <td>1</td>\n",
       "    </tr>\n",
       "    <tr>\n",
       "      <th>2</th>\n",
       "      <td>18857.0</td>\n",
       "      <td>165.0</td>\n",
       "      <td>64.0</td>\n",
       "      <td>130.0</td>\n",
       "      <td>70.0</td>\n",
       "      <td>1.0</td>\n",
       "      <td>1</td>\n",
       "      <td>0</td>\n",
       "      <td>0</td>\n",
       "      <td>0</td>\n",
       "      <td>...</td>\n",
       "      <td>0</td>\n",
       "      <td>0</td>\n",
       "      <td>1</td>\n",
       "      <td>0</td>\n",
       "      <td>1</td>\n",
       "      <td>0</td>\n",
       "      <td>1</td>\n",
       "      <td>0</td>\n",
       "      <td>0</td>\n",
       "      <td>1</td>\n",
       "    </tr>\n",
       "    <tr>\n",
       "      <th>3</th>\n",
       "      <td>17623.0</td>\n",
       "      <td>169.0</td>\n",
       "      <td>82.0</td>\n",
       "      <td>150.0</td>\n",
       "      <td>100.0</td>\n",
       "      <td>1.0</td>\n",
       "      <td>0</td>\n",
       "      <td>1</td>\n",
       "      <td>1</td>\n",
       "      <td>0</td>\n",
       "      <td>...</td>\n",
       "      <td>0</td>\n",
       "      <td>0</td>\n",
       "      <td>1</td>\n",
       "      <td>0</td>\n",
       "      <td>1</td>\n",
       "      <td>0</td>\n",
       "      <td>0</td>\n",
       "      <td>1</td>\n",
       "      <td>0</td>\n",
       "      <td>1</td>\n",
       "    </tr>\n",
       "    <tr>\n",
       "      <th>4</th>\n",
       "      <td>17474.0</td>\n",
       "      <td>156.0</td>\n",
       "      <td>56.0</td>\n",
       "      <td>100.0</td>\n",
       "      <td>60.0</td>\n",
       "      <td>1.0</td>\n",
       "      <td>1</td>\n",
       "      <td>0</td>\n",
       "      <td>1</td>\n",
       "      <td>0</td>\n",
       "      <td>...</td>\n",
       "      <td>0</td>\n",
       "      <td>0</td>\n",
       "      <td>1</td>\n",
       "      <td>0</td>\n",
       "      <td>1</td>\n",
       "      <td>0</td>\n",
       "      <td>1</td>\n",
       "      <td>0</td>\n",
       "      <td>1</td>\n",
       "      <td>0</td>\n",
       "    </tr>\n",
       "    <tr>\n",
       "      <th>...</th>\n",
       "      <td>...</td>\n",
       "      <td>...</td>\n",
       "      <td>...</td>\n",
       "      <td>...</td>\n",
       "      <td>...</td>\n",
       "      <td>...</td>\n",
       "      <td>...</td>\n",
       "      <td>...</td>\n",
       "      <td>...</td>\n",
       "      <td>...</td>\n",
       "      <td>...</td>\n",
       "      <td>...</td>\n",
       "      <td>...</td>\n",
       "      <td>...</td>\n",
       "      <td>...</td>\n",
       "      <td>...</td>\n",
       "      <td>...</td>\n",
       "      <td>...</td>\n",
       "      <td>...</td>\n",
       "      <td>...</td>\n",
       "      <td>...</td>\n",
       "    </tr>\n",
       "    <tr>\n",
       "      <th>69995</th>\n",
       "      <td>19240.0</td>\n",
       "      <td>168.0</td>\n",
       "      <td>76.0</td>\n",
       "      <td>120.0</td>\n",
       "      <td>80.0</td>\n",
       "      <td>1.0</td>\n",
       "      <td>0</td>\n",
       "      <td>1</td>\n",
       "      <td>1</td>\n",
       "      <td>0</td>\n",
       "      <td>...</td>\n",
       "      <td>0</td>\n",
       "      <td>0</td>\n",
       "      <td>0</td>\n",
       "      <td>1</td>\n",
       "      <td>1</td>\n",
       "      <td>0</td>\n",
       "      <td>0</td>\n",
       "      <td>1</td>\n",
       "      <td>1</td>\n",
       "      <td>0</td>\n",
       "    </tr>\n",
       "    <tr>\n",
       "      <th>69996</th>\n",
       "      <td>22601.0</td>\n",
       "      <td>158.0</td>\n",
       "      <td>126.0</td>\n",
       "      <td>140.0</td>\n",
       "      <td>90.0</td>\n",
       "      <td>1.0</td>\n",
       "      <td>1</td>\n",
       "      <td>0</td>\n",
       "      <td>0</td>\n",
       "      <td>1</td>\n",
       "      <td>...</td>\n",
       "      <td>1</td>\n",
       "      <td>0</td>\n",
       "      <td>1</td>\n",
       "      <td>0</td>\n",
       "      <td>1</td>\n",
       "      <td>0</td>\n",
       "      <td>0</td>\n",
       "      <td>1</td>\n",
       "      <td>0</td>\n",
       "      <td>1</td>\n",
       "    </tr>\n",
       "    <tr>\n",
       "      <th>69997</th>\n",
       "      <td>19066.0</td>\n",
       "      <td>183.0</td>\n",
       "      <td>105.0</td>\n",
       "      <td>180.0</td>\n",
       "      <td>90.0</td>\n",
       "      <td>1.0</td>\n",
       "      <td>0</td>\n",
       "      <td>1</td>\n",
       "      <td>0</td>\n",
       "      <td>0</td>\n",
       "      <td>...</td>\n",
       "      <td>0</td>\n",
       "      <td>0</td>\n",
       "      <td>1</td>\n",
       "      <td>0</td>\n",
       "      <td>0</td>\n",
       "      <td>1</td>\n",
       "      <td>1</td>\n",
       "      <td>0</td>\n",
       "      <td>0</td>\n",
       "      <td>1</td>\n",
       "    </tr>\n",
       "    <tr>\n",
       "      <th>69998</th>\n",
       "      <td>22431.0</td>\n",
       "      <td>163.0</td>\n",
       "      <td>72.0</td>\n",
       "      <td>135.0</td>\n",
       "      <td>80.0</td>\n",
       "      <td>1.0</td>\n",
       "      <td>1</td>\n",
       "      <td>0</td>\n",
       "      <td>1</td>\n",
       "      <td>0</td>\n",
       "      <td>...</td>\n",
       "      <td>1</td>\n",
       "      <td>0</td>\n",
       "      <td>1</td>\n",
       "      <td>0</td>\n",
       "      <td>1</td>\n",
       "      <td>0</td>\n",
       "      <td>1</td>\n",
       "      <td>0</td>\n",
       "      <td>0</td>\n",
       "      <td>1</td>\n",
       "    </tr>\n",
       "    <tr>\n",
       "      <th>69999</th>\n",
       "      <td>20540.0</td>\n",
       "      <td>170.0</td>\n",
       "      <td>72.0</td>\n",
       "      <td>120.0</td>\n",
       "      <td>80.0</td>\n",
       "      <td>1.0</td>\n",
       "      <td>1</td>\n",
       "      <td>0</td>\n",
       "      <td>0</td>\n",
       "      <td>1</td>\n",
       "      <td>...</td>\n",
       "      <td>0</td>\n",
       "      <td>0</td>\n",
       "      <td>1</td>\n",
       "      <td>0</td>\n",
       "      <td>1</td>\n",
       "      <td>0</td>\n",
       "      <td>0</td>\n",
       "      <td>1</td>\n",
       "      <td>1</td>\n",
       "      <td>0</td>\n",
       "    </tr>\n",
       "  </tbody>\n",
       "</table>\n",
       "<p>70000 rows × 22 columns</p>\n",
       "</div>"
      ],
      "text/plain": [
       "           age  height  weight  ap_hi  ap_lo  bias  gender_1.0  gender_2.0  \\\n",
       "0      18393.0   168.0    62.0  110.0   80.0   1.0           0           1   \n",
       "1      20228.0   156.0    85.0  140.0   90.0   1.0           1           0   \n",
       "2      18857.0   165.0    64.0  130.0   70.0   1.0           1           0   \n",
       "3      17623.0   169.0    82.0  150.0  100.0   1.0           0           1   \n",
       "4      17474.0   156.0    56.0  100.0   60.0   1.0           1           0   \n",
       "...        ...     ...     ...    ...    ...   ...         ...         ...   \n",
       "69995  19240.0   168.0    76.0  120.0   80.0   1.0           0           1   \n",
       "69996  22601.0   158.0   126.0  140.0   90.0   1.0           1           0   \n",
       "69997  19066.0   183.0   105.0  180.0   90.0   1.0           0           1   \n",
       "69998  22431.0   163.0    72.0  135.0   80.0   1.0           1           0   \n",
       "69999  20540.0   170.0    72.0  120.0   80.0   1.0           1           0   \n",
       "\n",
       "       cholesterol_1.0  cholesterol_2.0  ...  gluc_2.0  gluc_3.0  smoke_0.0  \\\n",
       "0                    1                0  ...         0         0          1   \n",
       "1                    0                0  ...         0         0          1   \n",
       "2                    0                0  ...         0         0          1   \n",
       "3                    1                0  ...         0         0          1   \n",
       "4                    1                0  ...         0         0          1   \n",
       "...                ...              ...  ...       ...       ...        ...   \n",
       "69995                1                0  ...         0         0          0   \n",
       "69996                0                1  ...         1         0          1   \n",
       "69997                0                0  ...         0         0          1   \n",
       "69998                1                0  ...         1         0          1   \n",
       "69999                0                1  ...         0         0          1   \n",
       "\n",
       "       smoke_1.0  alco_0.0  alco_1.0  active_0.0  active_1.0  cardio_0.0  \\\n",
       "0              0         1         0           0           1           1   \n",
       "1              0         1         0           0           1           0   \n",
       "2              0         1         0           1           0           0   \n",
       "3              0         1         0           0           1           0   \n",
       "4              0         1         0           1           0           1   \n",
       "...          ...       ...       ...         ...         ...         ...   \n",
       "69995          1         1         0           0           1           1   \n",
       "69996          0         1         0           0           1           0   \n",
       "69997          0         0         1           1           0           0   \n",
       "69998          0         1         0           1           0           0   \n",
       "69999          0         1         0           0           1           1   \n",
       "\n",
       "       cardio_1.0  \n",
       "0               0  \n",
       "1               1  \n",
       "2               1  \n",
       "3               1  \n",
       "4               0  \n",
       "...           ...  \n",
       "69995           0  \n",
       "69996           1  \n",
       "69997           1  \n",
       "69998           1  \n",
       "69999           0  \n",
       "\n",
       "[70000 rows x 22 columns]"
      ]
     },
     "execution_count": 10,
     "metadata": {},
     "output_type": "execute_result"
    }
   ],
   "source": [
    "df2"
   ]
  },
  {
   "cell_type": "code",
   "execution_count": 11,
   "id": "f2b43344-e477-4883-97c2-12be0713780d",
   "metadata": {},
   "outputs": [],
   "source": [
    "#convert to numpy for easier processing\n",
    "features = np.array(df2.drop(['cardio_1.0', 'cardio_0.0'], axis=1))\n",
    "labels = np.array(df2.iloc[:, -2:])"
   ]
  },
  {
   "cell_type": "code",
   "execution_count": 12,
   "id": "82f2d8b1-5531-4234-8b4f-9b74a5946901",
   "metadata": {},
   "outputs": [
    {
     "data": {
      "text/plain": [
       "(70000, 20)"
      ]
     },
     "execution_count": 12,
     "metadata": {},
     "output_type": "execute_result"
    }
   ],
   "source": [
    "features.shape"
   ]
  },
  {
   "cell_type": "code",
   "execution_count": 13,
   "id": "1c3f0f5a-325b-45b9-8d2a-301d4b066aaf",
   "metadata": {},
   "outputs": [
    {
     "data": {
      "text/plain": [
       "(70000, 2)"
      ]
     },
     "execution_count": 13,
     "metadata": {},
     "output_type": "execute_result"
    }
   ],
   "source": [
    "labels.shape"
   ]
  },
  {
   "cell_type": "code",
   "execution_count": 14,
   "id": "4fe2e520-9217-4763-8d62-930d953ea627",
   "metadata": {},
   "outputs": [
    {
     "name": "stderr",
     "output_type": "stream",
     "text": [
      "2023-10-01 17:01:02.742286: I tensorflow/core/platform/cpu_feature_guard.cc:182] This TensorFlow binary is optimized to use available CPU instructions in performance-critical operations.\n",
      "To enable the following instructions: SSE3 SSE4.1 SSE4.2 AVX, in other operations, rebuild TensorFlow with the appropriate compiler flags.\n",
      "/usr/lib/python3.11/site-packages/h5py/__init__.py:36: UserWarning: h5py is running against HDF5 1.14.2 when it was built against 1.14.1, this may cause problems\n",
      "  _warn((\"h5py is running against HDF5 {0} when it was built against {1}, \"\n"
     ]
    }
   ],
   "source": [
    "import tensorflow as tf\n",
    "from sklearn.model_selection import train_test_split"
   ]
  },
  {
   "cell_type": "code",
   "execution_count": 15,
   "id": "0858762f-939f-43af-b476-4ed017965634",
   "metadata": {},
   "outputs": [],
   "source": [
    "#separate test and training data\n",
    "x_train, x_test, y_train, y_test = train_test_split(features, labels, test_size=.1)"
   ]
  },
  {
   "cell_type": "code",
   "execution_count": 16,
   "id": "728107bd-4722-4841-a8b1-71cf1ca77cd3",
   "metadata": {},
   "outputs": [
    {
     "name": "stderr",
     "output_type": "stream",
     "text": [
      "2023-10-01 17:01:08.853653: I tensorflow/core/common_runtime/process_util.cc:146] Creating new thread pool with default inter op setting: 2. Tune using inter_op_parallelism_threads for best performance.\n"
     ]
    }
   ],
   "source": [
    "#use a neural network\n",
    "model = tf.keras.models.Sequential([\n",
    "    tf.keras.layers.Dense(100, activation='relu', input_shape=(features.shape[1],)),\n",
    "    #tf.keras.layers.Dropout(0.1),\n",
    "    tf.keras.layers.Dense(2, activation='sigmoid')\n",
    "    \n",
    "])\n"
   ]
  },
  {
   "cell_type": "code",
   "execution_count": 17,
   "id": "87fbe445-4697-41f2-a4b2-fecd7b79e535",
   "metadata": {},
   "outputs": [],
   "source": [
    "loss_fn = tf.keras.losses.CategoricalCrossentropy()\n"
   ]
  },
  {
   "cell_type": "code",
   "execution_count": 18,
   "id": "b486fede-0d19-418d-8091-c3a1be3bb703",
   "metadata": {},
   "outputs": [],
   "source": [
    "model.compile(optimizer='adam',\n",
    "              loss=loss_fn,\n",
    "              metrics=['accuracy'])\n"
   ]
  },
  {
   "cell_type": "code",
   "execution_count": 19,
   "id": "ab672424-86a8-4e7d-b8e5-a39a6b4e5d6d",
   "metadata": {},
   "outputs": [
    {
     "name": "stdout",
     "output_type": "stream",
     "text": [
      "Epoch 1/10\n",
      "1969/1969 [==============================] - 8s 4ms/step - loss: 22.9001 - accuracy: 0.5181\n",
      "Epoch 2/10\n",
      "1969/1969 [==============================] - 7s 3ms/step - loss: 15.2459 - accuracy: 0.5493\n",
      "Epoch 3/10\n",
      "1969/1969 [==============================] - 7s 3ms/step - loss: 9.1351 - accuracy: 0.5794\n",
      "Epoch 4/10\n",
      "1969/1969 [==============================] - 8s 4ms/step - loss: 9.9773 - accuracy: 0.5820\n",
      "Epoch 5/10\n",
      "1969/1969 [==============================] - 7s 4ms/step - loss: 8.7766 - accuracy: 0.5960\n",
      "Epoch 6/10\n",
      "1969/1969 [==============================] - 8s 4ms/step - loss: 9.4292 - accuracy: 0.5945\n",
      "Epoch 7/10\n",
      "1969/1969 [==============================] - 8s 4ms/step - loss: 10.0867 - accuracy: 0.5890\n",
      "Epoch 8/10\n",
      "1969/1969 [==============================] - 9s 4ms/step - loss: 8.2322 - accuracy: 0.6008\n",
      "Epoch 9/10\n",
      "1969/1969 [==============================] - 9s 4ms/step - loss: 9.2601 - accuracy: 0.5960\n",
      "Epoch 10/10\n",
      "1969/1969 [==============================] - 9s 5ms/step - loss: 8.1935 - accuracy: 0.6013\n"
     ]
    },
    {
     "data": {
      "text/plain": [
       "<keras.callbacks.History at 0x7fb101cd7550>"
      ]
     },
     "execution_count": 19,
     "metadata": {},
     "output_type": "execute_result"
    }
   ],
   "source": [
    "model.fit(x_train, y_train, epochs=10)"
   ]
  },
  {
   "cell_type": "code",
   "execution_count": 20,
   "id": "0f216d54-4e2c-4e94-880b-b169852b831d",
   "metadata": {},
   "outputs": [
    {
     "name": "stdout",
     "output_type": "stream",
     "text": [
      "219/219 - 1s - loss: 11.3488 - accuracy: 0.5079 - 639ms/epoch - 3ms/step\n"
     ]
    },
    {
     "data": {
      "text/plain": [
       "[11.348836898803711, 0.5078571438789368]"
      ]
     },
     "execution_count": 20,
     "metadata": {},
     "output_type": "execute_result"
    }
   ],
   "source": [
    "model.evaluate(x_test,  y_test, verbose=2)\n"
   ]
  },
  {
   "cell_type": "code",
   "execution_count": 61,
   "id": "cf763f70-1558-4b78-a6da-784367a64c4a",
   "metadata": {},
   "outputs": [],
   "source": [
    "#simpler model\n",
    "model2 = tf.keras.models.Sequential([\n",
    "    tf.keras.layers.Dense(2, activation='softmax', input_shape=(features.shape[1],))\n",
    "])"
   ]
  },
  {
   "cell_type": "code",
   "execution_count": 62,
   "id": "ce3b9bbc-e325-4ee1-baa2-8d5fe92bde38",
   "metadata": {},
   "outputs": [],
   "source": [
    "model2.compile(optimizer='adam',\n",
    "              loss=loss_fn,\n",
    "              metrics=['accuracy'])\n"
   ]
  },
  {
   "cell_type": "code",
   "execution_count": 63,
   "id": "bac83fec-c210-4cde-9e94-f2251ad9fe4f",
   "metadata": {},
   "outputs": [
    {
     "name": "stdout",
     "output_type": "stream",
     "text": [
      "Epoch 1/10\n",
      "1969/1969 [==============================] - 7s 3ms/step - loss: 167.0472 - accuracy: 0.4673\n",
      "Epoch 2/10\n",
      "1969/1969 [==============================] - 6s 3ms/step - loss: 1.4581 - accuracy: 0.5419\n",
      "Epoch 3/10\n",
      "1969/1969 [==============================] - 6s 3ms/step - loss: 1.1603 - accuracy: 0.6008\n",
      "Epoch 4/10\n",
      "1969/1969 [==============================] - 5s 3ms/step - loss: 1.1391 - accuracy: 0.6111\n",
      "Epoch 5/10\n",
      "1969/1969 [==============================] - 5s 3ms/step - loss: 1.2484 - accuracy: 0.6055\n",
      "Epoch 6/10\n",
      "1969/1969 [==============================] - 5s 3ms/step - loss: 1.1612 - accuracy: 0.6099\n",
      "Epoch 7/10\n",
      "1969/1969 [==============================] - 6s 3ms/step - loss: 1.0917 - accuracy: 0.6115\n",
      "Epoch 8/10\n",
      "1969/1969 [==============================] - 6s 3ms/step - loss: 1.2677 - accuracy: 0.5986\n",
      "Epoch 9/10\n",
      "1969/1969 [==============================] - 6s 3ms/step - loss: 1.1735 - accuracy: 0.6153\n",
      "Epoch 10/10\n",
      "1969/1969 [==============================] - 6s 3ms/step - loss: 1.2379 - accuracy: 0.6129\n"
     ]
    },
    {
     "data": {
      "text/plain": [
       "<keras.callbacks.History at 0x7fb093a4cf50>"
      ]
     },
     "execution_count": 63,
     "metadata": {},
     "output_type": "execute_result"
    }
   ],
   "source": [
    "model2.fit(x_train, y_train, epochs=10)"
   ]
  },
  {
   "cell_type": "code",
   "execution_count": 64,
   "id": "930c7c14-a178-4c40-a889-0beaa38dfc5b",
   "metadata": {},
   "outputs": [
    {
     "name": "stdout",
     "output_type": "stream",
     "text": [
      "219/219 - 1s - loss: 2.0200 - accuracy: 0.4986 - 573ms/epoch - 3ms/step\n"
     ]
    },
    {
     "data": {
      "text/plain": [
       "[2.020017623901367, 0.4985714256763458]"
      ]
     },
     "execution_count": 64,
     "metadata": {},
     "output_type": "execute_result"
    }
   ],
   "source": [
    "model2.evaluate(x_test,  y_test, verbose=2)\n"
   ]
  },
  {
   "cell_type": "code",
   "execution_count": 25,
   "id": "705b0ad9-633e-4f98-9eec-3c2eed52d7c8",
   "metadata": {},
   "outputs": [],
   "source": [
    "from sklearn.tree import DecisionTreeClassifier"
   ]
  },
  {
   "cell_type": "code",
   "execution_count": 26,
   "id": "a0888c50-81a5-4864-9658-b0779b924234",
   "metadata": {},
   "outputs": [],
   "source": [
    "#use a decision tree\n",
    "tree = DecisionTreeClassifier().fit(x_train, y_train)"
   ]
  },
  {
   "cell_type": "code",
   "execution_count": 27,
   "id": "6e453692-1c64-4932-9a85-5d1ef259295c",
   "metadata": {},
   "outputs": [
    {
     "data": {
      "text/plain": [
       "0.6407142857142857"
      ]
     },
     "execution_count": 27,
     "metadata": {},
     "output_type": "execute_result"
    }
   ],
   "source": [
    "tree.score(x_test, y_test)"
   ]
  },
  {
   "cell_type": "code",
   "execution_count": 28,
   "id": "c6006524-506e-418e-bf02-c7c1146b43d6",
   "metadata": {},
   "outputs": [],
   "source": [
    "from sklearn.linear_model import LinearRegression"
   ]
  },
  {
   "cell_type": "code",
   "execution_count": 29,
   "id": "889b8bc2-803f-48ee-9ee8-34f9c4ddd3a6",
   "metadata": {},
   "outputs": [],
   "source": [
    "#try a linear model\n",
    "lin = LinearRegression().fit(x_train, y_train)"
   ]
  },
  {
   "cell_type": "code",
   "execution_count": 30,
   "id": "c97b03da-89c5-4719-9389-79a4dca48593",
   "metadata": {},
   "outputs": [
    {
     "data": {
      "text/plain": [
       "0.1203711098272705"
      ]
     },
     "execution_count": 30,
     "metadata": {},
     "output_type": "execute_result"
    }
   ],
   "source": [
    "lin.score(x_train, y_train)"
   ]
  },
  {
   "cell_type": "code",
   "execution_count": 31,
   "id": "df96f49f-2dc2-43af-9091-81393a55ba81",
   "metadata": {},
   "outputs": [
    {
     "data": {
      "text/plain": [
       "0.12339698211509709"
      ]
     },
     "execution_count": 31,
     "metadata": {},
     "output_type": "execute_result"
    }
   ],
   "source": [
    "lin.score(x_test, y_test)"
   ]
  },
  {
   "cell_type": "code",
   "execution_count": 32,
   "id": "f7819b66-8208-4cb1-bef0-3ebbf0adf7ea",
   "metadata": {},
   "outputs": [],
   "source": [
    "preds = lin.predict(x_test)"
   ]
  },
  {
   "cell_type": "code",
   "execution_count": 33,
   "id": "57d5ff17-53dc-46b6-a18e-455874ca7327",
   "metadata": {},
   "outputs": [
    {
     "data": {
      "text/plain": [
       "array([[ 0.61217011,  0.38782989],\n",
       "       [ 0.34868786,  0.65131214],\n",
       "       [-0.05129637,  1.05129637],\n",
       "       ...,\n",
       "       [ 0.62103469,  0.37896531],\n",
       "       [ 0.19272914,  0.80727086],\n",
       "       [ 0.36509234,  0.63490766]])"
      ]
     },
     "execution_count": 33,
     "metadata": {},
     "output_type": "execute_result"
    }
   ],
   "source": [
    "preds"
   ]
  },
  {
   "cell_type": "code",
   "execution_count": 34,
   "id": "5547f3f4-8da9-4b2c-b578-765502117f30",
   "metadata": {},
   "outputs": [
    {
     "data": {
      "text/plain": [
       "array([[-4.05308569e-05,  2.19972754e-03, -5.23615997e-03,\n",
       "        -1.22336250e-04, -1.34694301e-04,  2.77555756e-17,\n",
       "         9.42057805e-03, -9.42057805e-03,  1.31995594e-01,\n",
       "         8.31166678e-03, -1.40307260e-01, -1.82138761e-02,\n",
       "        -3.65625884e-02,  5.47764645e-02, -1.13268657e-02,\n",
       "         1.13268657e-02, -1.40970901e-02,  1.40970901e-02,\n",
       "        -1.98835660e-02,  1.98835660e-02],\n",
       "       [ 4.05308569e-05, -2.19972754e-03,  5.23615997e-03,\n",
       "         1.22336250e-04,  1.34694301e-04, -2.77555756e-17,\n",
       "        -9.42057805e-03,  9.42057805e-03, -1.31995594e-01,\n",
       "        -8.31166678e-03,  1.40307260e-01,  1.82138761e-02,\n",
       "         3.65625884e-02, -5.47764645e-02,  1.13268657e-02,\n",
       "        -1.13268657e-02,  1.40970901e-02, -1.40970901e-02,\n",
       "         1.98835660e-02, -1.98835660e-02]])"
      ]
     },
     "execution_count": 34,
     "metadata": {},
     "output_type": "execute_result"
    }
   ],
   "source": [
    "lin.coef_"
   ]
  },
  {
   "cell_type": "code",
   "execution_count": 35,
   "id": "4b81f526-65ed-4e9e-ad71-4276f609057f",
   "metadata": {},
   "outputs": [],
   "source": [
    "for i in range(len(preds)):\n",
    "    if preds[i][0] > preds[i][1]:\n",
    "        preds[i][0] = 1\n",
    "        preds[i][1] = 0\n",
    "    else:\n",
    "        preds[i][0] = 0\n",
    "        preds[i][1] = 1"
   ]
  },
  {
   "cell_type": "code",
   "execution_count": 36,
   "id": "9e4b53d7-52b1-4e2b-b397-5021e4dba22c",
   "metadata": {},
   "outputs": [
    {
     "data": {
      "text/plain": [
       "array([[1., 0.],\n",
       "       [0., 1.],\n",
       "       [0., 1.],\n",
       "       ...,\n",
       "       [1., 0.],\n",
       "       [0., 1.],\n",
       "       [0., 1.]])"
      ]
     },
     "execution_count": 36,
     "metadata": {},
     "output_type": "execute_result"
    }
   ],
   "source": [
    "preds"
   ]
  },
  {
   "cell_type": "code",
   "execution_count": 37,
   "id": "a8a9ae96-9f6e-4348-a1b0-c3f6809f2c07",
   "metadata": {},
   "outputs": [],
   "source": [
    "from sklearn.metrics import accuracy_score"
   ]
  },
  {
   "cell_type": "code",
   "execution_count": 38,
   "id": "3db16f7b-b2b7-4e98-8849-43a340e8531b",
   "metadata": {},
   "outputs": [
    {
     "data": {
      "text/plain": [
       "0.6481428571428571"
      ]
     },
     "execution_count": 38,
     "metadata": {},
     "output_type": "execute_result"
    }
   ],
   "source": [
    "accuracy_score(y_test, preds)"
   ]
  },
  {
   "cell_type": "code",
   "execution_count": 39,
   "id": "a695b4f4-c3eb-4923-b109-a06bc58b62fa",
   "metadata": {},
   "outputs": [],
   "source": [
    "#deeper neural net\n",
    "model3 = tf.keras.models.Sequential([\n",
    "    tf.keras.layers.Dense(100, activation='relu', input_shape=(features.shape[1],)),\n",
    "    tf.keras.layers.Dense(20, activation='relu'),\n",
    "    tf.keras.layers.Dense(20, activation='relu'),\n",
    "    tf.keras.layers.Dense(20, activation='relu'),\n",
    "    tf.keras.layers.Dense(20, activation='relu'),\n",
    "    tf.keras.layers.Dense(20, activation='relu'),\n",
    "    #tf.keras.layers.Dropout(0.1),\n",
    "    tf.keras.layers.Dense(2, activation='sigmoid')\n",
    "])\n",
    "\n",
    "loss_fn = tf.keras.losses.CategoricalCrossentropy() #the other one seems to get stuck at .6\n",
    "\n",
    "model3.compile(optimizer='adam',\n",
    "              loss=loss_fn,\n",
    "              metrics=['accuracy'])"
   ]
  },
  {
   "cell_type": "code",
   "execution_count": 40,
   "id": "762e2693-c856-4578-bbb6-7fdc06b80d5d",
   "metadata": {},
   "outputs": [
    {
     "name": "stdout",
     "output_type": "stream",
     "text": [
      "Epoch 1/20\n",
      "1969/1969 [==============================] - 10s 5ms/step - loss: 3.3427 - accuracy: 0.5209\n",
      "Epoch 2/20\n",
      "1969/1969 [==============================] - 10s 5ms/step - loss: 0.7566 - accuracy: 0.5513\n",
      "Epoch 3/20\n",
      "1969/1969 [==============================] - 10s 5ms/step - loss: 0.7174 - accuracy: 0.5492\n",
      "Epoch 4/20\n",
      "1969/1969 [==============================] - 10s 5ms/step - loss: 0.7480 - accuracy: 0.5501\n",
      "Epoch 5/20\n",
      "1969/1969 [==============================] - 9s 5ms/step - loss: 0.6933 - accuracy: 0.5475\n",
      "Epoch 6/20\n",
      "1969/1969 [==============================] - 10s 5ms/step - loss: 0.6930 - accuracy: 0.5508\n",
      "Epoch 7/20\n",
      "1969/1969 [==============================] - 11s 6ms/step - loss: 0.6881 - accuracy: 0.5447\n",
      "Epoch 8/20\n",
      "1969/1969 [==============================] - 11s 6ms/step - loss: 0.6934 - accuracy: 0.4970\n",
      "Epoch 9/20\n",
      "1969/1969 [==============================] - 10s 5ms/step - loss: 0.7946 - accuracy: 0.5078\n",
      "Epoch 10/20\n",
      "1969/1969 [==============================] - 10s 5ms/step - loss: 0.6763 - accuracy: 0.5749\n",
      "Epoch 11/20\n",
      "1969/1969 [==============================] - 11s 5ms/step - loss: 0.6677 - accuracy: 0.5942\n",
      "Epoch 12/20\n",
      "1969/1969 [==============================] - 10s 5ms/step - loss: 0.6527 - accuracy: 0.6224\n",
      "Epoch 13/20\n",
      "1969/1969 [==============================] - 10s 5ms/step - loss: 0.6399 - accuracy: 0.6425\n",
      "Epoch 14/20\n",
      "1969/1969 [==============================] - 11s 5ms/step - loss: 0.6261 - accuracy: 0.6637\n",
      "Epoch 15/20\n",
      "1969/1969 [==============================] - 11s 6ms/step - loss: 0.6145 - accuracy: 0.6742\n",
      "Epoch 16/20\n",
      "1969/1969 [==============================] - 11s 5ms/step - loss: 0.6030 - accuracy: 0.6848\n",
      "Epoch 17/20\n",
      "1969/1969 [==============================] - 11s 6ms/step - loss: 0.5967 - accuracy: 0.6897\n",
      "Epoch 18/20\n",
      "1969/1969 [==============================] - 11s 6ms/step - loss: 0.5927 - accuracy: 0.6917\n",
      "Epoch 19/20\n",
      "1969/1969 [==============================] - 12s 6ms/step - loss: 0.5866 - accuracy: 0.6967\n",
      "Epoch 20/20\n",
      "1969/1969 [==============================] - 10s 5ms/step - loss: 0.5872 - accuracy: 0.6968\n"
     ]
    },
    {
     "data": {
      "text/plain": [
       "<keras.callbacks.History at 0x7fb0d8151f10>"
      ]
     },
     "execution_count": 40,
     "metadata": {},
     "output_type": "execute_result"
    }
   ],
   "source": [
    "model3.fit(x_train, y_train, epochs=20)"
   ]
  },
  {
   "cell_type": "code",
   "execution_count": 41,
   "id": "689a3495-405a-42d4-aedf-ad7b07c23ce9",
   "metadata": {},
   "outputs": [
    {
     "name": "stdout",
     "output_type": "stream",
     "text": [
      "219/219 - 1s - loss: 0.5650 - accuracy: 0.7221 - 740ms/epoch - 3ms/step\n"
     ]
    },
    {
     "data": {
      "text/plain": [
       "[0.5649703741073608, 0.7221428751945496]"
      ]
     },
     "execution_count": 41,
     "metadata": {},
     "output_type": "execute_result"
    }
   ],
   "source": [
    "model3.evaluate(x_test, y_test, verbose=2)"
   ]
  },
  {
   "cell_type": "code",
   "execution_count": 65,
   "id": "7b2a542a-0c79-44e0-9c2f-8c3b6d7fd518",
   "metadata": {},
   "outputs": [],
   "source": [
    "#Super overfitting 9000\n",
    "model4 = tf.keras.models.Sequential([\n",
    "    tf.keras.layers.Dense(40, activation='relu', input_shape=(features.shape[1],)),\n",
    "    tf.keras.layers.Dense(40, activation='relu'),\n",
    "    tf.keras.layers.Dense(40, activation='relu'),\n",
    "    tf.keras.layers.Dense(40, activation='relu'),\n",
    "    tf.keras.layers.Dense(40, activation='relu'),\n",
    "    tf.keras.layers.Dense(40, activation='relu'),\n",
    "    tf.keras.layers.Dense(40, activation='relu'),\n",
    "    tf.keras.layers.Dense(40, activation='relu'),\n",
    "    tf.keras.layers.Dense(40, activation='relu'),\n",
    "    tf.keras.layers.Dense(40, activation='relu'),\n",
    "    #tf.keras.layers.Dropout(0.1),\n",
    "    tf.keras.layers.Dense(2, activation='sigmoid')\n",
    "])\n",
    "\n",
    "loss_fn = tf.keras.losses.CategoricalCrossentropy() #the other one seems to get stuck at .6\n",
    "\n",
    "model4.compile(optimizer='adam',\n",
    "              loss=loss_fn,\n",
    "              metrics=['accuracy'])"
   ]
  },
  {
   "cell_type": "code",
   "execution_count": 67,
   "id": "70aac922-c0ef-4026-866c-373c3219915d",
   "metadata": {},
   "outputs": [
    {
     "name": "stdout",
     "output_type": "stream",
     "text": [
      "Epoch 1/25\n",
      "1969/1969 [==============================] - 13s 7ms/step - loss: 0.7175 - accuracy: 0.5207\n",
      "Epoch 2/25\n",
      "1969/1969 [==============================] - 16s 8ms/step - loss: 0.6919 - accuracy: 0.5434\n",
      "Epoch 3/25\n",
      "1969/1969 [==============================] - 13s 7ms/step - loss: 0.6800 - accuracy: 0.5675\n",
      "Epoch 4/25\n",
      "1969/1969 [==============================] - 9s 4ms/step - loss: 0.6788 - accuracy: 0.5742\n",
      "Epoch 5/25\n",
      "1969/1969 [==============================] - 10s 5ms/step - loss: 0.6740 - accuracy: 0.5768\n",
      "Epoch 6/25\n",
      "1969/1969 [==============================] - 12s 6ms/step - loss: 0.6668 - accuracy: 0.5909\n",
      "Epoch 7/25\n",
      "1969/1969 [==============================] - 11s 6ms/step - loss: 0.6387 - accuracy: 0.6388\n",
      "Epoch 8/25\n",
      "1969/1969 [==============================] - 14s 7ms/step - loss: 0.6121 - accuracy: 0.6692\n",
      "Epoch 9/25\n",
      "1969/1969 [==============================] - 13s 6ms/step - loss: 0.6002 - accuracy: 0.6811\n",
      "Epoch 10/25\n",
      "1969/1969 [==============================] - 11s 5ms/step - loss: 0.5931 - accuracy: 0.6881\n",
      "Epoch 11/25\n",
      "1969/1969 [==============================] - 11s 5ms/step - loss: 0.5907 - accuracy: 0.6911\n",
      "Epoch 12/25\n",
      "1969/1969 [==============================] - 10s 5ms/step - loss: 0.5871 - accuracy: 0.6970\n",
      "Epoch 13/25\n",
      "1969/1969 [==============================] - 10s 5ms/step - loss: 0.5847 - accuracy: 0.6981\n",
      "Epoch 14/25\n",
      "1969/1969 [==============================] - 10s 5ms/step - loss: 0.5805 - accuracy: 0.7009\n",
      "Epoch 15/25\n",
      "1969/1969 [==============================] - 11s 5ms/step - loss: 0.6299 - accuracy: 0.6428\n",
      "Epoch 16/25\n",
      "1969/1969 [==============================] - 12s 6ms/step - loss: 0.6011 - accuracy: 0.6841\n",
      "Epoch 17/25\n",
      "1969/1969 [==============================] - 15s 7ms/step - loss: 0.5890 - accuracy: 0.6968\n",
      "Epoch 18/25\n",
      "1969/1969 [==============================] - 14s 7ms/step - loss: 0.5845 - accuracy: 0.6978\n",
      "Epoch 19/25\n",
      "1969/1969 [==============================] - 14s 7ms/step - loss: 0.5826 - accuracy: 0.7001\n",
      "Epoch 20/25\n",
      "1969/1969 [==============================] - 15s 7ms/step - loss: 0.5768 - accuracy: 0.7066\n",
      "Epoch 21/25\n",
      "1969/1969 [==============================] - 14s 7ms/step - loss: 0.5769 - accuracy: 0.7031\n",
      "Epoch 22/25\n",
      "1969/1969 [==============================] - 14s 7ms/step - loss: 0.5733 - accuracy: 0.7093\n",
      "Epoch 23/25\n",
      "1969/1969 [==============================] - 14s 7ms/step - loss: 0.5744 - accuracy: 0.7068\n",
      "Epoch 24/25\n",
      "1969/1969 [==============================] - 14s 7ms/step - loss: 0.5732 - accuracy: 0.7080\n",
      "Epoch 25/25\n",
      "1969/1969 [==============================] - 16s 8ms/step - loss: 0.5709 - accuracy: 0.7108\n"
     ]
    },
    {
     "data": {
      "text/plain": [
       "<keras.callbacks.History at 0x7fb08de34dd0>"
      ]
     },
     "execution_count": 67,
     "metadata": {},
     "output_type": "execute_result"
    }
   ],
   "source": [
    "model4.fit(x_train, y_train, epochs=25)"
   ]
  },
  {
   "cell_type": "code",
   "execution_count": 68,
   "id": "6aa98024-2d4c-4dae-aad5-d274cbf0c6ca",
   "metadata": {},
   "outputs": [
    {
     "name": "stdout",
     "output_type": "stream",
     "text": [
      "219/219 - 1s - loss: 0.5639 - accuracy: 0.7229 - 773ms/epoch - 4ms/step\n"
     ]
    },
    {
     "data": {
      "text/plain": [
       "[0.5639091730117798, 0.7228571176528931]"
      ]
     },
     "execution_count": 68,
     "metadata": {},
     "output_type": "execute_result"
    }
   ],
   "source": [
    "model4.evaluate(x_test, y_test, verbose=2)"
   ]
  },
  {
   "cell_type": "code",
   "execution_count": 93,
   "id": "20183894-ba8c-491b-9c44-ba14c28604c1",
   "metadata": {},
   "outputs": [
    {
     "name": "stdout",
     "output_type": "stream",
     "text": [
      "age:\t -4.053085692451839e-05, \t4.053085692451839e-05\n",
      "height:\t 0.002199727538384587, \t-0.002199727538384587\n",
      "weight:\t -0.005236159973421485, \t0.005236159973421485\n",
      "ap_hi:\t -0.00012233625034142968, \t0.00012233625034142968\n",
      "ap_lo:\t -0.0001346943013636262, \t0.0001346943013636262\n",
      "bias:\t 2.7755575615628914e-17, \t-2.7755575615628914e-17\n",
      "gender_1.0:\t 0.009420578045095069, \t-0.009420578045095069\n",
      "gender_2.0:\t -0.009420578045095303, \t0.009420578045095303\n",
      "cholesterol_1.0:\t 0.1319955936598206, \t-0.1319955936598206\n",
      "cholesterol_2.0:\t 0.008311666782551444, \t-0.008311666782551444\n",
      "cholesterol_3.0:\t -0.14030726044237296, \t0.14030726044237296\n",
      "gluc_1.0:\t -0.018213876065008967, \t0.018213876065008967\n",
      "gluc_2.0:\t -0.036562588385340496, \t0.036562588385340496\n",
      "gluc_3.0:\t 0.05477646445034874, \t-0.05477646445034874\n",
      "smoke_0.0:\t -0.01132686572031567, \t0.01132686572031567\n",
      "smoke_1.0:\t 0.011326865720315521, \t-0.011326865720315521\n",
      "alco_0.0:\t -0.014097090074477079, \t0.014097090074477079\n",
      "alco_1.0:\t 0.0140970900744771, \t-0.0140970900744771\n",
      "active_0.0:\t -0.019883565960424742, \t0.019883565960424742\n",
      "active_1.0:\t 0.01988356596042492, \t-0.01988356596042492\n"
     ]
    }
   ],
   "source": [
    "for i in range(len(df2.keys())-2):\n",
    "    print(str(df2.keys()[i]) + \":\\t \" + str(lin.coef_[0][i]) + \", \\t\" + str(lin.coef_[1][i]))"
   ]
  },
  {
   "cell_type": "code",
   "execution_count": 101,
   "id": "8b62178f-4688-49ab-bf5a-60671a3500aa",
   "metadata": {},
   "outputs": [
    {
     "name": "stdout",
     "output_type": "stream",
     "text": [
      "<tr><td>age</td><td>4.053085692451839e-05</td></tr>\n",
      "<tr><td>height</td><td>-0.002199727538384587</td></tr>\n",
      "<tr><td>weight</td><td>0.005236159973421485</td></tr>\n",
      "<tr><td>ap_hi</td><td>0.00012233625034142968</td></tr>\n",
      "<tr><td>ap_lo</td><td>0.0001346943013636262</td></tr>\n",
      "<tr><td>bias</td><td>-2.7755575615628914e-17</td></tr>\n",
      "<tr><td>gender_1.0</td><td>-0.009420578045095069</td></tr>\n",
      "<tr><td>gender_2.0</td><td>0.009420578045095303</td></tr>\n",
      "<tr><td>cholesterol_1.0</td><td>-0.1319955936598206</td></tr>\n",
      "<tr><td>cholesterol_2.0</td><td>-0.008311666782551444</td></tr>\n",
      "<tr><td>cholesterol_3.0</td><td>0.14030726044237296</td></tr>\n",
      "<tr><td>gluc_1.0</td><td>0.018213876065008967</td></tr>\n",
      "<tr><td>gluc_2.0</td><td>0.036562588385340496</td></tr>\n",
      "<tr><td>gluc_3.0</td><td>-0.05477646445034874</td></tr>\n",
      "<tr><td>smoke_0.0</td><td>0.01132686572031567</td></tr>\n",
      "<tr><td>smoke_1.0</td><td>-0.011326865720315521</td></tr>\n",
      "<tr><td>alco_0.0</td><td>0.014097090074477079</td></tr>\n",
      "<tr><td>alco_1.0</td><td>-0.0140970900744771</td></tr>\n",
      "<tr><td>active_0.0</td><td>0.019883565960424742</td></tr>\n",
      "<tr><td>active_1.0</td><td>-0.01988356596042492</td></tr>\n"
     ]
    }
   ],
   "source": [
    "#format to html table\n",
    "for i in range(len(df2.keys())-2):\n",
    "    print(\"<tr><td>\"+str(df2.keys()[i]) + \"</td><td>\"+str(lin.coef_[1][i])+\"</td></tr>\")"
   ]
  },
  {
   "cell_type": "code",
   "execution_count": 105,
   "id": "01e32385-b5a2-4964-9f74-66214c79b5c9",
   "metadata": {},
   "outputs": [
    {
     "name": "stdout",
     "output_type": "stream",
     "text": [
      "<tr><td>age</td><td>0.09999982432174068</td></tr>\n",
      "<tr><td>height</td><td>-0.01806004105769166</td></tr>\n",
      "<tr><td>weight</td><td>0.0753784849071363</td></tr>\n",
      "<tr><td>ap_hi</td><td>0.018841179566019328</td></tr>\n",
      "<tr><td>ap_lo</td><td>0.02538617579450716</td></tr>\n",
      "<tr><td>bias</td><td>-0.0</td></tr>\n",
      "<tr><td>gender_1.0</td><td>-0.004492089740666628</td></tr>\n",
      "<tr><td>gender_2.0</td><td>0.004492089740666739</td></tr>\n",
      "<tr><td>cholesterol_1.0</td><td>-0.05728082885731637</td></tr>\n",
      "<tr><td>cholesterol_2.0</td><td>-0.0028528167609598106</td></tr>\n",
      "<tr><td>cholesterol_3.0</td><td>0.04480008941202573</td></tr>\n",
      "<tr><td>gluc_1.0</td><td>0.006509052563392525</td></tr>\n",
      "<tr><td>gluc_2.0</td><td>0.009579584773964865</td></tr>\n",
      "<tr><td>gluc_3.0</td><td>-0.014529526898897336</td></tr>\n",
      "<tr><td>smoke_0.0</td><td>0.0032109831264356273</td></tr>\n",
      "<tr><td>smoke_1.0</td><td>-0.003210983126435585</td></tr>\n",
      "<tr><td>alco_0.0</td><td>0.0031798482356000155</td></tr>\n",
      "<tr><td>alco_1.0</td><td>-0.00317984823560002</td></tr>\n",
      "<tr><td>active_0.0</td><td>0.007897336107299969</td></tr>\n",
      "<tr><td>active_1.0</td><td>-0.007897336107300038</td></tr>\n"
     ]
    }
   ],
   "source": [
    "#format to html table\n",
    "for i in range(len(df2.keys())-2):\n",
    "    print(\"<tr><td>\"+str(df2.keys()[i]) + \"</td><td>\"+str(lin.coef_[1][i] * df2.std()[i])+\"</td></tr>\")"
   ]
  },
  {
   "cell_type": "code",
   "execution_count": 124,
   "id": "40fc3e44-3a5d-466f-a419-5918e3524472",
   "metadata": {},
   "outputs": [],
   "source": [
    "from sklearn.tree import plot_tree\n",
    "import matplotlib.pyplot as plt"
   ]
  },
  {
   "cell_type": "code",
   "execution_count": 131,
   "id": "b13a0bf3-54e7-40a2-b173-3a050c36930f",
   "metadata": {},
   "outputs": [
    {
     "data": {
      "text/plain": [
       "<Figure size 10000x10000 with 0 Axes>"
      ]
     },
     "execution_count": 131,
     "metadata": {},
     "output_type": "execute_result"
    },
    {
     "data": {
      "text/plain": [
       "<Figure size 10000x10000 with 0 Axes>"
      ]
     },
     "metadata": {},
     "output_type": "display_data"
    }
   ],
   "source": []
  },
  {
   "cell_type": "code",
   "execution_count": 138,
   "id": "0b232d99-2f1d-4c27-a1f7-b0fc790592bc",
   "metadata": {},
   "outputs": [
    {
     "data": {
      "text/plain": [
       "[Text(0.5, 0.8333333333333334, 'x[3] <= 129.5\\ngini = 0.5\\nsamples = 63000\\nvalue = [[31524, 31476]\\n[31476, 31524]]'),\n",
       " Text(0.25, 0.5, 'x[0] <= 19966.5\\ngini = 0.435\\nsamples = 37193\\nvalue = [[11892, 25301]\\n[25301, 11892]]'),\n",
       " Text(0.125, 0.16666666666666666, '\\n  (...)  \\n'),\n",
       " Text(0.375, 0.16666666666666666, '\\n  (...)  \\n'),\n",
       " Text(0.75, 0.5, 'x[3] <= 138.5\\ngini = 0.364\\nsamples = 25807\\nvalue = [[19632, 6175]\\n[6175, 19632]]'),\n",
       " Text(0.625, 0.16666666666666666, '\\n  (...)  \\n'),\n",
       " Text(0.875, 0.16666666666666666, '\\n  (...)  \\n')]"
      ]
     },
     "execution_count": 138,
     "metadata": {},
     "output_type": "execute_result"
    },
    {
     "data": {
      "image/png": "[encoded data removed]",
      "text/plain": [
       "<Figure size 640x480 with 1 Axes>"
      ]
     },
     "metadata": {},
     "output_type": "display_data"
    }
   ],
   "source": [
    "plot_tree(tree, max_depth=1)"
   ]
  },
  {
   "cell_type": "code",
   "execution_count": 139,
   "id": "c53c765c-c14e-40ea-ba64-5127f30dfd9e",
   "metadata": {},
   "outputs": [
    {
     "data": {
      "text/plain": [
       "Index(['age', 'height', 'weight', 'ap_hi', 'ap_lo', 'bias', 'gender_1.0',\n",
       "       'gender_2.0', 'cholesterol_1.0', 'cholesterol_2.0', 'cholesterol_3.0',\n",
       "       'gluc_1.0', 'gluc_2.0', 'gluc_3.0', 'smoke_0.0', 'smoke_1.0',\n",
       "       'alco_0.0', 'alco_1.0', 'active_0.0', 'active_1.0', 'cardio_0.0',\n",
       "       'cardio_1.0'],\n",
       "      dtype='object')"
      ]
     },
     "execution_count": 139,
     "metadata": {},
     "output_type": "execute_result"
    }
   ],
   "source": [
    "df2.keys()"
   ]
  },
  {
   "cell_type": "code",
   "execution_count": null,
   "id": "a7a8ad0d-d39a-46c8-8224-06e3c5394525",
   "metadata": {},
   "outputs": [],
   "source": []
  }
 ],
 "metadata": {
  "kernelspec": {
   "display_name": "Python 3 (ipykernel)",
   "language": "python",
   "name": "python3"
  },
  "language_info": {
   "codemirror_mode": {
    "name": "ipython",
    "version": 3
   },
   "file_extension": ".py",
   "mimetype": "text/x-python",
   "name": "python",
   "nbconvert_exporter": "python",
   "pygments_lexer": "ipython3",
   "version": "3.11.5"
  }
 },
 "nbformat": 4,
 "nbformat_minor": 5
}
